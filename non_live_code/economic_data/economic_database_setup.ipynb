{
 "cells": [
  {
   "cell_type": "code",
   "execution_count": 1,
   "metadata": {},
   "outputs": [],
   "source": [
    "import json\n",
    "import pandas as pd"
   ]
  },
  {
   "cell_type": "code",
   "execution_count": 2,
   "metadata": {},
   "outputs": [
    {
     "data": {
      "text/html": [
       "<div>\n",
       "<style scoped>\n",
       "    .dataframe tbody tr th:only-of-type {\n",
       "        vertical-align: middle;\n",
       "    }\n",
       "\n",
       "    .dataframe tbody tr th {\n",
       "        vertical-align: top;\n",
       "    }\n",
       "\n",
       "    .dataframe thead th {\n",
       "        text-align: right;\n",
       "    }\n",
       "</style>\n",
       "<table border=\"1\" class=\"dataframe\">\n",
       "  <thead>\n",
       "    <tr style=\"text-align: right;\">\n",
       "      <th></th>\n",
       "      <th>name</th>\n",
       "      <th>regionID</th>\n",
       "    </tr>\n",
       "  </thead>\n",
       "  <tbody>\n",
       "    <tr>\n",
       "      <th>0</th>\n",
       "      <td>Entre Ríos</td>\n",
       "      <td>0</td>\n",
       "    </tr>\n",
       "    <tr>\n",
       "      <th>1</th>\n",
       "      <td>Paysandú</td>\n",
       "      <td>1</td>\n",
       "    </tr>\n",
       "    <tr>\n",
       "      <th>2</th>\n",
       "      <td>Sind</td>\n",
       "      <td>2</td>\n",
       "    </tr>\n",
       "    <tr>\n",
       "      <th>3</th>\n",
       "      <td>Gujarat</td>\n",
       "      <td>3</td>\n",
       "    </tr>\n",
       "    <tr>\n",
       "      <th>4</th>\n",
       "      <td>Kalimantan Timur</td>\n",
       "      <td>4</td>\n",
       "    </tr>\n",
       "    <tr>\n",
       "      <th>...</th>\n",
       "      <td>...</td>\n",
       "      <td>...</td>\n",
       "    </tr>\n",
       "    <tr>\n",
       "      <th>4589</th>\n",
       "      <td>Isla</td>\n",
       "      <td>4589</td>\n",
       "    </tr>\n",
       "    <tr>\n",
       "      <th>4590</th>\n",
       "      <td>Cospicua</td>\n",
       "      <td>4590</td>\n",
       "    </tr>\n",
       "    <tr>\n",
       "      <th>4591</th>\n",
       "      <td>Pietà</td>\n",
       "      <td>4591</td>\n",
       "    </tr>\n",
       "    <tr>\n",
       "      <th>4592</th>\n",
       "      <td>Msida</td>\n",
       "      <td>4592</td>\n",
       "    </tr>\n",
       "    <tr>\n",
       "      <th>4593</th>\n",
       "      <td>Birgu</td>\n",
       "      <td>4593</td>\n",
       "    </tr>\n",
       "  </tbody>\n",
       "</table>\n",
       "<p>4594 rows × 2 columns</p>\n",
       "</div>"
      ],
      "text/plain": [
       "                  name  regionID\n",
       "0           Entre Ríos         0\n",
       "1             Paysandú         1\n",
       "2                 Sind         2\n",
       "3              Gujarat         3\n",
       "4     Kalimantan Timur         4\n",
       "...                ...       ...\n",
       "4589              Isla      4589\n",
       "4590          Cospicua      4590\n",
       "4591             Pietà      4591\n",
       "4592             Msida      4592\n",
       "4593             Birgu      4593\n",
       "\n",
       "[4594 rows x 2 columns]"
      ]
     },
     "execution_count": 2,
     "metadata": {},
     "output_type": "execute_result"
    }
   ],
   "source": [
    "# Get a list of basemap region\n",
    "\n",
    "# Read the basemap geojson as a json\n",
    "basemap_path = '../../src/assets/basemap/mapAdmin.json'\n",
    "basemap = None\n",
    "with open(basemap_path, 'r') as file:\n",
    "  basemap = json.load(file)\n",
    "\n",
    "# Extract the basemap region properties and load into a pandas ataframe\n",
    "regions = []\n",
    "for feature in basemap['features']:\n",
    "  regions.append(feature['properties'])\n",
    "df_region = pd.DataFrame(regions)\n",
    "df_region.to_csv('mapAdminRegionProperties.csv')\n",
    "df_region"
   ]
  },
  {
   "cell_type": "code",
   "execution_count": 4,
   "metadata": {},
   "outputs": [],
   "source": [
    "import requests\n",
    "from bs4 import BeautifulSoup"
   ]
  },
  {
   "cell_type": "code",
   "execution_count": 10,
   "metadata": {},
   "outputs": [],
   "source": [
    "# Write a scraper to get basic economic data of from wikipedia for above regions\n",
    "def scrape_infobox\n",
    "\n",
    "def scrape_economic_data(region_name):\n",
    "  # Candidate wikipedia url for the region\n",
    "  url = r\"https://en.wikipedia.org/wiki/\" + region_name\n",
    "\n",
    "  # Try to access the url\n",
    "  page = requests.get(url)\n",
    "  soup = BeautifulSoup(page.content, \"html.parser\")\n",
    "  infobox = soup.find('table', class_='infobox')\n",
    "\n",
    "  return infobox"
   ]
  },
  {
   "cell_type": "code",
   "execution_count": 11,
   "metadata": {},
   "outputs": [
    {
     "data": {
      "text/plain": [
       "<table class=\"infobox ib-settlement vcard\"><tbody><tr><th class=\"infobox-above\" colspan=\"2\"><div class=\"fn org\">Sindh</div>\n",
       "<div class=\"nickname ib-settlement-native\"><style data-mw-deduplicate=\"TemplateStyles:r1129693374\">.mw-parser-output .hlist dl,.mw-parser-output .hlist ol,.mw-parser-output .hlist ul{margin:0;padding:0}.mw-parser-output .hlist dd,.mw-parser-output .hlist dt,.mw-parser-output .hlist li{margin:0;display:inline}.mw-parser-output .hlist.inline,.mw-parser-output .hlist.inline dl,.mw-parser-output .hlist.inline ol,.mw-parser-output .hlist.inline ul,.mw-parser-output .hlist dl dl,.mw-parser-output .hlist dl ol,.mw-parser-output .hlist dl ul,.mw-parser-output .hlist ol dl,.mw-parser-output .hlist ol ol,.mw-parser-output .hlist ol ul,.mw-parser-output .hlist ul dl,.mw-parser-output .hlist ul ol,.mw-parser-output .hlist ul ul{display:inline}.mw-parser-output .hlist .mw-empty-li{display:none}.mw-parser-output .hlist dt::after{content:\": \"}.mw-parser-output .hlist dd::after,.mw-parser-output .hlist li::after{content:\" · \";font-weight:bold}.mw-parser-output .hlist dd:last-child::after,.mw-parser-output .hlist dt:last-child::after,.mw-parser-output .hlist li:last-child::after{content:none}.mw-parser-output .hlist dd dd:first-child::before,.mw-parser-output .hlist dd dt:first-child::before,.mw-parser-output .hlist dd li:first-child::before,.mw-parser-output .hlist dt dd:first-child::before,.mw-parser-output .hlist dt dt:first-child::before,.mw-parser-output .hlist dt li:first-child::before,.mw-parser-output .hlist li dd:first-child::before,.mw-parser-output .hlist li dt:first-child::before,.mw-parser-output .hlist li li:first-child::before{content:\" (\";font-weight:normal}.mw-parser-output .hlist dd dd:last-child::after,.mw-parser-output .hlist dd dt:last-child::after,.mw-parser-output .hlist dd li:last-child::after,.mw-parser-output .hlist dt dd:last-child::after,.mw-parser-output .hlist dt dt:last-child::after,.mw-parser-output .hlist dt li:last-child::after,.mw-parser-output .hlist li dd:last-child::after,.mw-parser-output .hlist li dt:last-child::after,.mw-parser-output .hlist li li:last-child::after{content:\")\";font-weight:normal}.mw-parser-output .hlist ol{counter-reset:listitem}.mw-parser-output .hlist ol>li{counter-increment:listitem}.mw-parser-output .hlist ol>li::before{content:\" \"counter(listitem)\"\\a0 \"}.mw-parser-output .hlist dd ol>li:first-child::before,.mw-parser-output .hlist dt ol>li:first-child::before,.mw-parser-output .hlist li ol>li:first-child::before{content:\" (\"counter(listitem)\"\\a0 \"}</style><div class=\"hlist\"><ul><li><span class=\"Nastaliq\" dir=\"rtl\" style=\"font-family: 'Jameel Noori Nastaleeq', 'Urdu Typesetting', 'Noto Nastaliq Urdu', 'Noto Nastaliq Urdu Draft', 'Hussaini Nastaleeq', 'AlQalam Taj Nastaleeq', IranNastaliq, 'Awami Nastaliq', 'Awami Nastaliq Beta3', 'Awami Nastaliq Beta2', 'Awami Nastaliq Beta1', 'Nafees Nastaleeq', 'Nafees Nastaleeq v1.01', 'Pak Nastaleeq', 'PDMS_Jauhar', 'Alvi Lahori Nastaleeq'; font-size: 110%; font-style: normal;\" title=\"Nastaliq\">سندھ</span></li><li><span title=\"Sindhi-language text\"><span lang=\"sd\"><style data-mw-deduplicate=\"TemplateStyles:r1185273002\">.mw-parser-output .script-arabic{font-family:\"SF Arabic\",Scheherazade,Lateef,LateefGR,\"Scheherazade New\",\"Amiri\",\"Noto Naskh Arabic\",\"Droid Arabic Naskh\",\"Microsoft Uighur\",\"Sakkal Majalla\",\"Harmattan\",\"Arabic Typesetting\",\"Arabic Transparent\",\"Times New Roman\",\"Arial\",Calibri,\"Microsoft Sans Serif\",\"Segoe UI\",serif,sans-serif;font-weight:normal}</style><span class=\"script-arabic script-Arab\" dir=\"rtl\" style=\"font-size: 125%;\">سنڌ</span>‎</span></span></li></ul></div></div></th></tr><tr><td class=\"infobox-subheader\" colspan=\"2\"><div class=\"category\"><a href=\"/wiki/Administrative_units_of_Pakistan\" title=\"Administrative units of Pakistan\">Province</a></div></td></tr><tr class=\"mergedtoprow ib-settlement-official\"><td class=\"infobox-full-data\" colspan=\"2\">Province of Sindh</td></tr><tr class=\"mergedtoprow\"><td class=\"infobox-full-data\" colspan=\"2\"><style data-mw-deduplicate=\"TemplateStyles:r1096954695/mw-parser-output/.tmulti\">.mw-parser-output .tmulti .multiimageinner{display:flex;flex-direction:column}.mw-parser-output .tmulti .trow{display:flex;flex-direction:row;clear:left;flex-wrap:wrap;width:100%;box-sizing:border-box}.mw-parser-output .tmulti .tsingle{margin:1px;float:left}.mw-parser-output .tmulti .theader{clear:both;font-weight:bold;text-align:center;align-self:center;background-color:transparent;width:100%}.mw-parser-output .tmulti .thumbcaption{background-color:transparent}.mw-parser-output .tmulti .text-align-left{text-align:left}.mw-parser-output .tmulti .text-align-right{text-align:right}.mw-parser-output .tmulti .text-align-center{text-align:center}@media all and (max-width:720px){.mw-parser-output .tmulti .thumbinner{width:100%!important;box-sizing:border-box;max-width:none!important;align-items:center}.mw-parser-output .tmulti .trow{justify-content:center}.mw-parser-output .tmulti .tsingle{float:none!important;max-width:100%!important;box-sizing:border-box;text-align:center}.mw-parser-output .tmulti .tsingle .thumbcaption{text-align:left}.mw-parser-output .tmulti .trow>.thumbcaption{text-align:center}}</style><div class=\"thumb tmulti tnone center\"><div class=\"thumbinner multiimageinner\" style=\"width:272px;max-width:272px;border:none\"><div class=\"trow\"><div class=\"tsingle\" style=\"width:270px;max-width:270px\"><div class=\"thumbimage\" style=\"border:1;;height:201px;overflow:hidden\"><span typeof=\"mw:File\"><a class=\"mw-file-description\" href=\"/wiki/File:Jinnah_Mausoleum.JPG\"><img alt=\"\" class=\"mw-file-element\" data-file-height=\"3000\" data-file-width=\"4000\" decoding=\"async\" height=\"201\" src=\"//upload.wikimedia.org/wikipedia/commons/thumb/d/d1/Jinnah_Mausoleum.JPG/268px-Jinnah_Mausoleum.JPG\" srcset=\"//upload.wikimedia.org/wikipedia/commons/thumb/d/d1/Jinnah_Mausoleum.JPG/402px-Jinnah_Mausoleum.JPG 1.5x, //upload.wikimedia.org/wikipedia/commons/thumb/d/d1/Jinnah_Mausoleum.JPG/536px-Jinnah_Mausoleum.JPG 2x\" width=\"268\"/></a></span></div><div class=\"thumbcaption\"><a href=\"/wiki/Mazar-e-Quaid\" title=\"Mazar-e-Quaid\">Mazar-e-Quaid</a></div></div></div><div class=\"trow\"><div class=\"tsingle\" style=\"width:145px;max-width:145px\"><div class=\"thumbimage\" style=\"border:1;;height:80px;overflow:hidden\"><span typeof=\"mw:File\"><a class=\"mw-file-description\" href=\"/wiki/File:Rohri.jpg\"><img alt=\"\" class=\"mw-file-element\" data-file-height=\"1152\" data-file-width=\"2048\" decoding=\"async\" height=\"80\" src=\"//upload.wikimedia.org/wikipedia/commons/thumb/7/70/Rohri.jpg/143px-Rohri.jpg\" srcset=\"//upload.wikimedia.org/wikipedia/commons/thumb/7/70/Rohri.jpg/215px-Rohri.jpg 1.5x, //upload.wikimedia.org/wikipedia/commons/thumb/7/70/Rohri.jpg/286px-Rohri.jpg 2x\" width=\"143\"/></a></span></div><div class=\"thumbcaption\"><a href=\"/wiki/Ayub_Bridge\" title=\"Ayub Bridge\">Ayub Bridge</a></div></div><div class=\"tsingle\" style=\"width:123px;max-width:123px\"><div class=\"thumbimage\" style=\"border:1;;height:80px;overflow:hidden\"><span typeof=\"mw:File\"><a class=\"mw-file-description\" href=\"/wiki/File:Sunset_at_Shrine_of_Shah_Abdul_Latif_Bhittai.jpg\"><img alt=\"\" class=\"mw-file-element\" data-file-height=\"3917\" data-file-width=\"5875\" decoding=\"async\" height=\"81\" src=\"//upload.wikimedia.org/wikipedia/commons/thumb/0/0d/Sunset_at_Shrine_of_Shah_Abdul_Latif_Bhittai.jpg/121px-Sunset_at_Shrine_of_Shah_Abdul_Latif_Bhittai.jpg\" srcset=\"//upload.wikimedia.org/wikipedia/commons/thumb/0/0d/Sunset_at_Shrine_of_Shah_Abdul_Latif_Bhittai.jpg/182px-Sunset_at_Shrine_of_Shah_Abdul_Latif_Bhittai.jpg 1.5x, //upload.wikimedia.org/wikipedia/commons/thumb/0/0d/Sunset_at_Shrine_of_Shah_Abdul_Latif_Bhittai.jpg/242px-Sunset_at_Shrine_of_Shah_Abdul_Latif_Bhittai.jpg 2x\" width=\"121\"/></a></span></div><div class=\"thumbcaption\"><a href=\"/wiki/Shrine_of_Shah_Abdul_Latif_Bhittai\" title=\"Shrine of Shah Abdul Latif Bhittai\">Shrine of Bhittai</a></div></div></div><div class=\"trow\"><div class=\"tsingle\" style=\"width:134px;max-width:134px\"><div class=\"thumbimage\" style=\"border:1;;height:87px;overflow:hidden\"><span typeof=\"mw:File\"><a class=\"mw-file-description\" href=\"/wiki/File:Ranikot_fort_2_(asad_aman).jpg\"><img alt=\"\" class=\"mw-file-element\" data-file-height=\"683\" data-file-width=\"1024\" decoding=\"async\" height=\"88\" src=\"//upload.wikimedia.org/wikipedia/commons/thumb/5/5f/Ranikot_fort_2_%28asad_aman%29.jpg/132px-Ranikot_fort_2_%28asad_aman%29.jpg\" srcset=\"//upload.wikimedia.org/wikipedia/commons/thumb/5/5f/Ranikot_fort_2_%28asad_aman%29.jpg/198px-Ranikot_fort_2_%28asad_aman%29.jpg 1.5x, //upload.wikimedia.org/wikipedia/commons/thumb/5/5f/Ranikot_fort_2_%28asad_aman%29.jpg/264px-Ranikot_fort_2_%28asad_aman%29.jpg 2x\" width=\"132\"/></a></span></div><div class=\"thumbcaption\"><a href=\"/wiki/Ranikot_Fort\" title=\"Ranikot Fort\">Ranikot Fort</a></div></div><div class=\"tsingle\" style=\"width:134px;max-width:134px\"><div class=\"thumbimage\" style=\"border:1;;height:87px;overflow:hidden\"><span typeof=\"mw:File\"><a class=\"mw-file-description\" href=\"/wiki/File:Other_side_of_Moenjodaro_by_Usman_Ghani.jpg\"><img alt=\"\" class=\"mw-file-element\" data-file-height=\"2848\" data-file-width=\"4288\" decoding=\"async\" height=\"88\" src=\"//upload.wikimedia.org/wikipedia/commons/thumb/e/e1/Other_side_of_Moenjodaro_by_Usman_Ghani.jpg/132px-Other_side_of_Moenjodaro_by_Usman_Ghani.jpg\" srcset=\"//upload.wikimedia.org/wikipedia/commons/thumb/e/e1/Other_side_of_Moenjodaro_by_Usman_Ghani.jpg/198px-Other_side_of_Moenjodaro_by_Usman_Ghani.jpg 1.5x, //upload.wikimedia.org/wikipedia/commons/thumb/e/e1/Other_side_of_Moenjodaro_by_Usman_Ghani.jpg/264px-Other_side_of_Moenjodaro_by_Usman_Ghani.jpg 2x\" width=\"132\"/></a></span></div><div class=\"thumbcaption\"><a href=\"/wiki/Mohenjo-daro\" title=\"Mohenjo-daro\">Mohenjo-daro</a></div></div></div><div class=\"trow\"><div class=\"tsingle\" style=\"width:270px;max-width:270px\"><div class=\"thumbimage\" style=\"border:1;;height:178px;overflow:hidden\"><span typeof=\"mw:File\"><a class=\"mw-file-description\" href=\"/wiki/File:Shah_jahan_mosque_-Thatta_7(asad_aman).jpg\"><img alt=\"\" class=\"mw-file-element\" data-file-height=\"683\" data-file-width=\"1024\" decoding=\"async\" height=\"179\" src=\"//upload.wikimedia.org/wikipedia/commons/thumb/8/89/Shah_jahan_mosque_-Thatta_7%28asad_aman%29.jpg/268px-Shah_jahan_mosque_-Thatta_7%28asad_aman%29.jpg\" srcset=\"//upload.wikimedia.org/wikipedia/commons/thumb/8/89/Shah_jahan_mosque_-Thatta_7%28asad_aman%29.jpg/402px-Shah_jahan_mosque_-Thatta_7%28asad_aman%29.jpg 1.5x, //upload.wikimedia.org/wikipedia/commons/thumb/8/89/Shah_jahan_mosque_-Thatta_7%28asad_aman%29.jpg/536px-Shah_jahan_mosque_-Thatta_7%28asad_aman%29.jpg 2x\" width=\"268\"/></a></span></div><div class=\"thumbcaption\"><a href=\"/wiki/Shah_Jahan_Mosque,_Thatta\" title=\"Shah Jahan Mosque, Thatta\">Shah Jahan Mosque</a></div></div></div></div></div></td></tr><tr class=\"mergedtoprow\"><td class=\"infobox-full-data maptable\" colspan=\"2\"><style data-mw-deduplicate=\"TemplateStyles:r1028600610\">.mw-parser-output .ib-settlement-cols{text-align:center;display:table;width:100%}.mw-parser-output .ib-settlement-cols-row{display:table-row}.mw-parser-output .ib-settlement-cols-cell{display:table-cell;vertical-align:middle}.mw-parser-output .ib-settlement-cols-cellt{display:table-cell;vertical-align:top}</style>\n",
       "<div class=\"ib-settlement-cols\">\n",
       "<div class=\"ib-settlement-cols-row\"><div class=\"ib-settlement-cols-cell\"><span class=\"mw-image-border\" typeof=\"mw:File\"><a class=\"mw-file-description\" href=\"/wiki/File:Flag_of_Sindh.svg\" title=\"Flag of Sindh\"><img alt=\"Flag of Sindh\" class=\"mw-file-element\" data-file-height=\"1200\" data-file-width=\"1800\" decoding=\"async\" height=\"67\" src=\"//upload.wikimedia.org/wikipedia/commons/thumb/c/c3/Flag_of_Sindh.svg/100px-Flag_of_Sindh.svg.png\" srcset=\"//upload.wikimedia.org/wikipedia/commons/thumb/c/c3/Flag_of_Sindh.svg/150px-Flag_of_Sindh.svg.png 1.5x, //upload.wikimedia.org/wikipedia/commons/thumb/c/c3/Flag_of_Sindh.svg/200px-Flag_of_Sindh.svg.png 2x\" width=\"100\"/></a></span><div class=\"ib-settlement-caption-link\"><a href=\"/wiki/Flag_of_Sindh\" title=\"Flag of Sindh\">Flag</a></div></div><div class=\"ib-settlement-cols-cell\"><span typeof=\"mw:File\"><a class=\"mw-file-description\" href=\"/wiki/File:Coat_of_arms_of_Sindh_Province.svg\" title=\"Official seal of Sindh\"><img alt=\"Official seal of Sindh\" class=\"mw-file-element\" data-file-height=\"457\" data-file-width=\"400\" decoding=\"async\" height=\"100\" src=\"//upload.wikimedia.org/wikipedia/commons/thumb/b/b7/Coat_of_arms_of_Sindh_Province.svg/87px-Coat_of_arms_of_Sindh_Province.svg.png\" srcset=\"//upload.wikimedia.org/wikipedia/commons/thumb/b/b7/Coat_of_arms_of_Sindh_Province.svg/131px-Coat_of_arms_of_Sindh_Province.svg.png 1.5x, //upload.wikimedia.org/wikipedia/commons/thumb/b/b7/Coat_of_arms_of_Sindh_Province.svg/175px-Coat_of_arms_of_Sindh_Province.svg.png 2x\" width=\"87\"/></a></span><div class=\"ib-settlement-caption-link\">Seal</div></div></div></div></td></tr><tr class=\"mergedtoprow\"><td class=\"infobox-full-data\" colspan=\"2\">Nickname(s): <div class=\"ib-settlement-nickname nickname\">Mehran (Gateway), Bab-ul-Islam (Gateway of Islam)</div></td></tr><tr class=\"mergedtoprow\"><td class=\"infobox-full-data\" colspan=\"2\"><span typeof=\"mw:File\"><a class=\"mw-file-description\" href=\"/wiki/File:Sindh_in_Pakistan_(claims_hatched).svg\" title=\"Location of Sindh in Pakistan\"><img alt=\"Location of Sindh in Pakistan\" class=\"mw-file-element\" data-file-height=\"1890\" data-file-width=\"2365\" decoding=\"async\" height=\"200\" src=\"//upload.wikimedia.org/wikipedia/commons/thumb/2/22/Sindh_in_Pakistan_%28claims_hatched%29.svg/250px-Sindh_in_Pakistan_%28claims_hatched%29.svg.png\" srcset=\"//upload.wikimedia.org/wikipedia/commons/thumb/2/22/Sindh_in_Pakistan_%28claims_hatched%29.svg/375px-Sindh_in_Pakistan_%28claims_hatched%29.svg.png 1.5x, //upload.wikimedia.org/wikipedia/commons/thumb/2/22/Sindh_in_Pakistan_%28claims_hatched%29.svg/500px-Sindh_in_Pakistan_%28claims_hatched%29.svg.png 2x\" width=\"250\"/></a></span><div class=\"ib-settlement-caption\">Location of Sindh in Pakistan</div></td></tr><tr class=\"mergedbottomrow\"><td class=\"infobox-full-data\" colspan=\"2\">Coordinates: <span class=\"geo-inline\"><style data-mw-deduplicate=\"TemplateStyles:r1156832818\">.mw-parser-output .geo-default,.mw-parser-output .geo-dms,.mw-parser-output .geo-dec{display:inline}.mw-parser-output .geo-nondefault,.mw-parser-output .geo-multi-punct,.mw-parser-output .geo-inline-hidden{display:none}.mw-parser-output .longitude,.mw-parser-output .latitude{white-space:nowrap}</style><span class=\"plainlinks nourlexpansion\"><a class=\"external text\" href=\"https://geohack.toolforge.org/geohack.php?pagename=Sindh&amp;params=26_21_N_68_51_E_region:PK_type:city(55696147)\"><span class=\"geo-default\"><span class=\"geo-dms\" title=\"Maps, aerial photos, and other data for this location\"><span class=\"latitude\">26°21′N</span> <span class=\"longitude\">68°51′E</span></span></span><span class=\"geo-multi-punct\">﻿ / ﻿</span><span class=\"geo-nondefault\"><span class=\"geo-dec\" title=\"Maps, aerial photos, and other data for this location\">26.350°N 68.850°E</span><span style=\"display:none\">﻿ / <span class=\"geo\">26.350; 68.850</span></span></span></a></span></span></td></tr><tr class=\"mergedtoprow\"><th class=\"infobox-label\" scope=\"row\">Country</th><td class=\"infobox-data\"><span class=\"flagicon\"><span class=\"mw-image-border\" typeof=\"mw:File\"><span><img alt=\"\" class=\"mw-file-element\" data-file-height=\"600\" data-file-width=\"900\" decoding=\"async\" height=\"15\" src=\"//upload.wikimedia.org/wikipedia/commons/thumb/3/32/Flag_of_Pakistan.svg/23px-Flag_of_Pakistan.svg.png\" srcset=\"//upload.wikimedia.org/wikipedia/commons/thumb/3/32/Flag_of_Pakistan.svg/35px-Flag_of_Pakistan.svg.png 1.5x, //upload.wikimedia.org/wikipedia/commons/thumb/3/32/Flag_of_Pakistan.svg/45px-Flag_of_Pakistan.svg.png 2x\" width=\"23\"/></span></span> </span><a href=\"/wiki/Pakistan\" title=\"Pakistan\">Pakistan</a></td></tr><tr class=\"mergedtoprow\"><th class=\"infobox-label\" scope=\"row\">Established</th><td class=\"infobox-data\"><a href=\"/wiki/Legal_Framework_Order,_1970\" title=\"Legal Framework Order, 1970\">1 July 1970</a></td></tr><tr class=\"mergedrow\"><th class=\"infobox-label\" scope=\"row\">Before was</th><td class=\"infobox-data\">Part of <a href=\"/wiki/West_Pakistan\" title=\"West Pakistan\">West Pakistan</a></td></tr><tr class=\"mergedtoprow\"><th class=\"infobox-label\" scope=\"row\">Capital<br/><style data-mw-deduplicate=\"TemplateStyles:r886047488\">.mw-parser-output .nobold{font-weight:normal}</style><span class=\"nobold\">and largest city</span></th><td class=\"infobox-data\"><a href=\"/wiki/Karachi\" title=\"Karachi\">Karachi</a></td></tr><tr class=\"mergedtoprow\"><th class=\"infobox-header\" colspan=\"2\">Government<div class=\"ib-settlement-fn\"></div></th></tr><tr class=\"mergedrow\"><th class=\"infobox-label\" scope=\"row\"> • Type</th><td class=\"infobox-data\"><a href=\"/wiki/Federated_state\" title=\"Federated state\">Self-governing province</a> subject to the <a href=\"/wiki/Government_of_Pakistan\" title=\"Government of Pakistan\">federal government</a></td></tr><tr class=\"mergedrow\"><th class=\"infobox-label\" scope=\"row\"> • Body</th><td class=\"infobox-data agent\"><a href=\"/wiki/Government_of_Sindh\" title=\"Government of Sindh\">Government of Sindh</a></td></tr><tr class=\"mergedrow\"><th class=\"infobox-label\" scope=\"row\"> • <a href=\"/wiki/Governor_of_Sindh\" title=\"Governor of Sindh\">Governor</a></th><td class=\"infobox-data\"><a href=\"/wiki/Kamran_Tessori\" title=\"Kamran Tessori\">Kamran Tessori</a></td></tr><tr class=\"mergedrow\"><th class=\"infobox-label\" scope=\"row\"> • <a href=\"/wiki/Chief_Minister_of_Sindh\" title=\"Chief Minister of Sindh\">Chief Minister</a></th><td class=\"infobox-data\"><a href=\"/wiki/Maqbool_Baqar\" title=\"Maqbool Baqar\">Maqbool Baqar</a> (caretaker)</td></tr><tr class=\"mergedrow\"><th class=\"infobox-label\" scope=\"row\"> • <a href=\"/wiki/Chief_Secretary_Sindh\" title=\"Chief Secretary Sindh\">Chief Secretary</a></th><td class=\"infobox-data\">Dr Fakhre Alam (<a href=\"/wiki/Pakistan_Administrative_Service\" title=\"Pakistan Administrative Service\">BPS-22 PAS</a>)</td></tr><tr class=\"mergedrow\"><th class=\"infobox-label\" scope=\"row\"> • <a href=\"/wiki/Legislature\" title=\"Legislature\">Legislature</a></th><td class=\"infobox-data\"><a href=\"/wiki/Provincial_Assembly_of_Sindh\" title=\"Provincial Assembly of Sindh\">Provincial Assembly</a></td></tr><tr class=\"mergedrow\"><th class=\"infobox-label\" scope=\"row\"> • <a class=\"mw-redirect\" href=\"/wiki/High_Courts_of_Pakistan\" title=\"High Courts of Pakistan\">High Court</a></th><td class=\"infobox-data\"><a href=\"/wiki/Sindh_High_Court\" title=\"Sindh High Court\">Sindh High Court</a></td></tr><tr class=\"mergedtoprow\"><th class=\"infobox-header\" colspan=\"2\">Area<div class=\"ib-settlement-fn\"></div></th></tr><tr class=\"mergedrow\"><th class=\"infobox-label\" scope=\"row\"> • Total</th><td class=\"infobox-data\">140,914 km<sup>2</sup> (54,407 sq mi)</td></tr><tr class=\"mergedrow\"><th class=\"infobox-label\" scope=\"row\"> • Rank</th><td class=\"infobox-data\"><a href=\"/wiki/Administrative_units_of_Pakistan\" title=\"Administrative units of Pakistan\">3rd</a></td></tr><tr class=\"mergedtoprow\"><th class=\"infobox-header\" colspan=\"2\">Population<div class=\"ib-settlement-fn\"><span class=\"nowrap\"> </span>(<a class=\"mw-redirect\" href=\"/wiki/2023_Census_of_Pakistan\" title=\"2023 Census of Pakistan\">2023 census</a>)<sup class=\"reference\" id=\"cite_ref-2023_Census_1-0\"><a href=\"#cite_note-2023_Census-1\">[1]</a></sup></div></th></tr><tr class=\"mergedrow\"><th class=\"infobox-label\" scope=\"row\"> • Total</th><td class=\"infobox-data\">55,696,147</td></tr><tr class=\"mergedrow\"><th class=\"infobox-label\" scope=\"row\"> • Rank</th><td class=\"infobox-data\"><a href=\"/wiki/Demographics_of_Pakistan\" title=\"Demographics of Pakistan\">2nd</a></td></tr><tr class=\"mergedrow\"><th class=\"infobox-label\" scope=\"row\"> • Density</th><td class=\"infobox-data\">395/km<sup>2</sup> (1,020/sq mi)</td></tr><tr class=\"mergedtoprow\"><th class=\"infobox-label\" scope=\"row\"><a href=\"/wiki/Demonym\" title=\"Demonym\">Demonym</a></th><td class=\"infobox-data\">Sindhi</td></tr><tr class=\"mergedtoprow\"><th class=\"infobox-header\" colspan=\"2\">GDP (nominal)<div class=\"ib-settlement-fn\"></div></th></tr><tr class=\"mergedrow\"><th class=\"infobox-label\" scope=\"row\"> • <a href=\"/wiki/List_of_Pakistani_administrative_units_by_gross_state_product\" title=\"List of Pakistani administrative units by gross state product\">Total</a></th><td class=\"infobox-data\">$86 billion (<a href=\"/wiki/List_of_Pakistani_administrative_units_by_gross_state_product\" title=\"List of Pakistani administrative units by gross state product\">2nd</a>)<sup class=\"reference\" id=\"cite_ref-g_2-0\"><a href=\"#cite_note-g-2\">[a]</a></sup></td></tr><tr class=\"mergedrow\"><th class=\"infobox-label\" scope=\"row\"> • <a href=\"/wiki/List_of_Pakistani_administrative_units_by_gross_state_product\" title=\"List of Pakistani administrative units by gross state product\">Per Capita</a></th><td class=\"infobox-data\">$1,997 (<a href=\"/wiki/List_of_Pakistani_administrative_units_by_gross_state_product\" title=\"List of Pakistani administrative units by gross state product\">3rd</a>)</td></tr><tr class=\"mergedtoprow\"><th class=\"infobox-header\" colspan=\"2\">GDP (PPP)<div class=\"ib-settlement-fn\"></div></th></tr><tr class=\"mergedrow\"><th class=\"infobox-label\" scope=\"row\"> • <a href=\"/wiki/List_of_Pakistani_administrative_units_by_gross_state_product\" title=\"List of Pakistani administrative units by gross state product\">Total</a></th><td class=\"infobox-data\">$345 billion (<a href=\"/wiki/List_of_Pakistani_administrative_units_by_gross_state_product\" title=\"List of Pakistani administrative units by gross state product\">2nd</a>)<sup class=\"reference\" id=\"cite_ref-g_2-1\"><a href=\"#cite_note-g-2\">[a]</a></sup></td></tr><tr class=\"mergedrow\"><th class=\"infobox-label\" scope=\"row\"> • <a href=\"/wiki/List_of_Pakistani_administrative_units_by_gross_state_product\" title=\"List of Pakistani administrative units by gross state product\">Per Capita</a></th><td class=\"infobox-data\">$7,209 (<a href=\"/wiki/List_of_Pakistani_administrative_units_by_gross_state_product\" title=\"List of Pakistani administrative units by gross state product\">3rd</a>)</td></tr><tr class=\"mergedtoprow\"><th class=\"infobox-label\" scope=\"row\"><a href=\"/wiki/Time_zone\" title=\"Time zone\">Time zone</a></th><td class=\"infobox-data\"><a href=\"/wiki/UTC%2B05:00\" title=\"UTC+05:00\">UTC+05:00</a> (<a href=\"/wiki/Pakistan_Standard_Time\" title=\"Pakistan Standard Time\">PKT</a>)</td></tr><tr class=\"mergedtoprow\"><th class=\"infobox-label\" scope=\"row\"><a href=\"/wiki/ISO_3166\" title=\"ISO 3166\">ISO 3166 code</a></th><td class=\"infobox-data nickname\"><a href=\"/wiki/ISO_3166-2:PK\" title=\"ISO 3166-2:PK\">PK-SD</a></td></tr><tr class=\"mergedtoprow\"><th class=\"infobox-label\" scope=\"row\"><a href=\"/wiki/Languages_of_Pakistan\" title=\"Languages of Pakistan\">Languages</a></th><td class=\"infobox-data\"><div><ul><li><b>Official:</b><br/><a href=\"/wiki/English_language\" title=\"English language\">English</a>, <a href=\"/wiki/Sindhi_language\" title=\"Sindhi language\">Sindhi</a>, <a href=\"/wiki/Urdu\" title=\"Urdu\">Urdu</a></li><li><b>Others:</b><br/><a href=\"/wiki/Pashto\" title=\"Pashto\">Pashto</a>, <a href=\"/wiki/Punjabi_language\" title=\"Punjabi language\">Punjabi</a>, <a href=\"/wiki/Saraiki_language\" title=\"Saraiki language\">Saraiki</a>, <a href=\"/wiki/Balochi_language\" title=\"Balochi language\">Balochi</a>, <a href=\"/wiki/Hindko\" title=\"Hindko\">Hindko</a></li></ul></div></td></tr><tr class=\"mergedrow\"><th class=\"infobox-label\" scope=\"row\">Notable sports teams</th><td class=\"infobox-data\"><a href=\"/wiki/Sindh_cricket_team\" title=\"Sindh cricket team\">Sindh cricket team</a> <br/><a href=\"/wiki/Karachi_Kings\" title=\"Karachi Kings\">Karachi Kings</a><br/><a href=\"/wiki/Karachi_United\" title=\"Karachi United\">Karachi United</a><br/><a href=\"/wiki/Hyderabad_Hawks\" title=\"Hyderabad Hawks\">Hyderabad Hawks</a><br/><a href=\"/wiki/Karachi_Dolphins\" title=\"Karachi Dolphins\">Karachi Dolphins</a><br/><a href=\"/wiki/Karachi_Zebras\" title=\"Karachi Zebras\">Karachi Zebras</a></td></tr><tr class=\"mergedrow\"><th class=\"infobox-label\" scope=\"row\"><a href=\"/wiki/List_of_administrative_units_of_Pakistan_by_Human_Development_Index\" title=\"List of administrative units of Pakistan by Human Development Index\">HDI</a> (2021)</th><td class=\"infobox-data\">0.517\n",
       "<span typeof=\"mw:File\"><span title=\"Increase\"><img alt=\"Increase\" class=\"mw-file-element\" data-file-height=\"300\" data-file-width=\"300\" decoding=\"async\" height=\"11\" src=\"//upload.wikimedia.org/wikipedia/commons/thumb/b/b0/Increase2.svg/11px-Increase2.svg.png\" srcset=\"//upload.wikimedia.org/wikipedia/commons/thumb/b/b0/Increase2.svg/17px-Increase2.svg.png 1.5x, //upload.wikimedia.org/wikipedia/commons/thumb/b/b0/Increase2.svg/22px-Increase2.svg.png 2x\" width=\"11\"/></span></span><sup class=\"reference\" id=\"cite_ref-GlobalDataLab_5-0\"><a href=\"#cite_note-GlobalDataLab-5\">[4]</a></sup><br/><span style=\"color:#FF0000\">Low</span></td></tr><tr class=\"mergedrow\"><th class=\"infobox-label\" scope=\"row\"><a href=\"/wiki/Education_in_Pakistan\" title=\"Education in Pakistan\">Literacy rate</a> (2020)</th><td class=\"infobox-data\">61.8%</td></tr><tr class=\"mergedtoprow\"><th class=\"infobox-label\" scope=\"row\"><a href=\"/wiki/National_Assembly_of_Pakistan\" title=\"National Assembly of Pakistan\">Seats in National Assembly</a></th><td class=\"infobox-data\">75</td></tr><tr class=\"mergedrow\"><th class=\"infobox-label\" scope=\"row\"><a href=\"/wiki/Provincial_Assembly_of_Sindh\" title=\"Provincial Assembly of Sindh\">Seats in Provincial Assembly</a></th><td class=\"infobox-data\">168<sup class=\"reference\" id=\"cite_ref-6\"><a href=\"#cite_note-6\">[5]</a></sup></td></tr><tr class=\"mergedrow\"><th class=\"infobox-label\" scope=\"row\"><a class=\"mw-redirect\" href=\"/wiki/Divisions_of_Sindh,_Pakistan\" title=\"Divisions of Sindh, Pakistan\">Divisions</a></th><td class=\"infobox-data\">7</td></tr><tr class=\"mergedrow\"><th class=\"infobox-label\" scope=\"row\"><a class=\"mw-redirect\" href=\"/wiki/Districts_of_Sindh\" title=\"Districts of Sindh\">Districts</a></th><td class=\"infobox-data\">30</td></tr><tr class=\"mergedrow\"><th class=\"infobox-label\" scope=\"row\"><a class=\"mw-redirect\" href=\"/wiki/Tehsils_of_Sindh\" title=\"Tehsils of Sindh\">Tehsils</a></th><td class=\"infobox-data\">138</td></tr><tr class=\"mergedrow\"><th class=\"infobox-label\" scope=\"row\"><a class=\"mw-redirect\" href=\"/wiki/Union_Councils_of_Pakistan\" title=\"Union Councils of Pakistan\">Union Councils</a></th><td class=\"infobox-data\">1108<sup class=\"reference\" id=\"cite_ref-7\"><a href=\"#cite_note-7\">[6]</a></sup></td></tr><tr class=\"mergedtoprow\"><th class=\"infobox-label\" scope=\"row\">Website</th><td class=\"infobox-data\"><a class=\"external text\" href=\"http://www.sindh.gov.pk\" rel=\"nofollow\">sindh.gov.pk</a></td></tr></tbody></table>"
      ]
     },
     "execution_count": 11,
     "metadata": {},
     "output_type": "execute_result"
    }
   ],
   "source": [
    "scrape_economic_data('Sind')"
   ]
  },
  {
   "cell_type": "code",
   "execution_count": null,
   "metadata": {},
   "outputs": [],
   "source": []
  }
 ],
 "metadata": {
  "kernelspec": {
   "display_name": "'py3.7.8'",
   "language": "python",
   "name": "python3"
  },
  "language_info": {
   "codemirror_mode": {
    "name": "ipython",
    "version": 3
   },
   "file_extension": ".py",
   "mimetype": "text/x-python",
   "name": "python",
   "nbconvert_exporter": "python",
   "pygments_lexer": "ipython3",
   "version": "3.7.8"
  }
 },
 "nbformat": 4,
 "nbformat_minor": 2
}
